{
 "cells": [
  {
   "cell_type": "code",
   "execution_count": 1,
   "id": "e51095d8-c1b7-4ee2-9056-9b46921a39db",
   "metadata": {},
   "outputs": [
    {
     "name": "stdout",
     "output_type": "stream",
     "text": [
      "3600\n"
     ]
    }
   ],
   "source": [
    "print(60 ** 2)"
   ]
  },
  {
   "cell_type": "code",
   "execution_count": 15,
   "id": "2aca86b1-02a4-486e-8a64-3fd25acf6ef4",
   "metadata": {},
   "outputs": [
    {
     "name": "stdout",
     "output_type": "stream",
     "text": [
      "there are  86400  seconds in a day.\n",
      "24.0\n",
      "24\n",
      "the numbers are not the same. Even if the value is the same, 24.0 is a float and 24 is an integer.\n"
     ]
    }
   ],
   "source": [
    "seconds_per_hour = 60 ** 2\n",
    "print(\"there are \",seconds_per_hour * 24,\" seconds in a day.\")\n",
    "\n",
    "seconds_per_day = seconds_per_hour * 24\n",
    "\n",
    "print(seconds_per_day / seconds_per_hour)\n",
    "print(seconds_per_day // seconds_per_hour)\n",
    "\n",
    "print(\"the numbers are not the same. Even if the value is the same the format is not. 24.0 is a float and 24 is an integer.\")"
   ]
  },
  {
   "cell_type": "code",
   "execution_count": null,
   "id": "6ad9986c-f638-46ff-86d3-c12a8208efde",
   "metadata": {},
   "outputs": [],
   "source": []
  }
 ],
 "metadata": {
  "kernelspec": {
   "display_name": "Python 3 (ipykernel)",
   "language": "python",
   "name": "python3"
  },
  "language_info": {
   "codemirror_mode": {
    "name": "ipython",
    "version": 3
   },
   "file_extension": ".py",
   "mimetype": "text/x-python",
   "name": "python",
   "nbconvert_exporter": "python",
   "pygments_lexer": "ipython3",
   "version": "3.12.4"
  }
 },
 "nbformat": 4,
 "nbformat_minor": 5
}
