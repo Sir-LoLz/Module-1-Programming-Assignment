{
 "cells": [
  {
   "cell_type": "markdown",
   "id": "804778bc-499a-4184-b76c-1aa1784a8571",
   "metadata": {},
   "source": [
    "3.1"
   ]
  },
  {
   "cell_type": "code",
   "execution_count": 80,
   "id": "e51095d8-c1b7-4ee2-9056-9b46921a39db",
   "metadata": {},
   "outputs": [
    {
     "name": "stdout",
     "output_type": "stream",
     "text": [
      "3600\n"
     ]
    }
   ],
   "source": [
    "print(60 ** 2)"
   ]
  },
  {
   "cell_type": "markdown",
   "id": "a900907c-a299-4b63-8047-cc326aa482a8",
   "metadata": {},
   "source": [
    "3.2"
   ]
  },
  {
   "cell_type": "code",
   "execution_count": 83,
   "id": "b3d401a7-a1f5-4f6a-b318-8ce5ce8f9e44",
   "metadata": {},
   "outputs": [],
   "source": [
    "seconds_per_hour = 60 ** 2"
   ]
  },
  {
   "cell_type": "markdown",
   "id": "7873447d-4462-4360-a6c3-b5c398523f70",
   "metadata": {},
   "source": [
    "3.3"
   ]
  },
  {
   "cell_type": "code",
   "execution_count": 86,
   "id": "4a9be149-e2d6-4259-b06a-d673c3f19b01",
   "metadata": {},
   "outputs": [
    {
     "name": "stdout",
     "output_type": "stream",
     "text": [
      "there are  86400  seconds in a day.\n"
     ]
    }
   ],
   "source": [
    "print(\"there are \",seconds_per_hour * 24,\" seconds in a day.\")"
   ]
  },
  {
   "cell_type": "markdown",
   "id": "96a4652e-21fa-4d45-9342-21b32b06b193",
   "metadata": {},
   "source": [
    "3.4"
   ]
  },
  {
   "cell_type": "code",
   "execution_count": 108,
   "id": "932b46f8-36a8-4542-a0f0-42d4abf24641",
   "metadata": {},
   "outputs": [],
   "source": [
    "seconds_per_day = seconds_per_hour * 24"
   ]
  },
  {
   "cell_type": "markdown",
   "id": "4b491817-9d46-47f2-8e0c-380df7136b0c",
   "metadata": {},
   "source": [
    "3.5"
   ]
  },
  {
   "cell_type": "code",
   "execution_count": 111,
   "id": "094667dc-1a21-4868-a02e-f150889c2808",
   "metadata": {},
   "outputs": [
    {
     "name": "stdout",
     "output_type": "stream",
     "text": [
      "24.0\n"
     ]
    }
   ],
   "source": [
    "print(seconds_per_day / seconds_per_hour)"
   ]
  },
  {
   "cell_type": "markdown",
   "id": "fb35df0a-7069-405f-bf63-7917274c32bb",
   "metadata": {},
   "source": [
    "3.6"
   ]
  },
  {
   "cell_type": "code",
   "execution_count": 102,
   "id": "a5a43a14-24eb-424b-a0ce-c408acfe6b8a",
   "metadata": {},
   "outputs": [
    {
     "name": "stdout",
     "output_type": "stream",
     "text": [
      "24\n"
     ]
    }
   ],
   "source": [
    "print(seconds_per_day // seconds_per_hour)"
   ]
  },
  {
   "cell_type": "markdown",
   "id": "11352f97-e39e-4277-887d-4e29b19b2235",
   "metadata": {},
   "source": [
    "If we remove the .0 from the float number then I think that would mean it is being treated as an intiger. In which case the numbers would both be 24 stored as intigers."
   ]
  },
  {
   "cell_type": "code",
   "execution_count": null,
   "id": "5732240f-7c1e-4461-aaef-781ec9514a83",
   "metadata": {},
   "outputs": [],
   "source": []
  }
 ],
 "metadata": {
  "kernelspec": {
   "display_name": "Python 3 (ipykernel)",
   "language": "python",
   "name": "python3"
  },
  "language_info": {
   "codemirror_mode": {
    "name": "ipython",
    "version": 3
   },
   "file_extension": ".py",
   "mimetype": "text/x-python",
   "name": "python",
   "nbconvert_exporter": "python",
   "pygments_lexer": "ipython3",
   "version": "3.12.4"
  }
 },
 "nbformat": 4,
 "nbformat_minor": 5
}
